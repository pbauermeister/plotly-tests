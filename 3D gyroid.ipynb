{
 "cells": [
  {
   "cell_type": "code",
   "execution_count": null,
   "metadata": {},
   "outputs": [],
   "source": [
    "# gimme more width\n",
    "from IPython.core.display import display, HTML\n",
    "display(HTML(\"<style>.container { width:1500px !important; }</style>\"))"
   ]
  },
  {
   "cell_type": "code",
   "execution_count": null,
   "metadata": {},
   "outputs": [],
   "source": [
    "import numpy\n",
    "from skimage import measure\n",
    "from numpy import sin, cos, pi, sqrt\n",
    "\n",
    "def compute_volume(span, resolution, lattice_param, f):\n",
    "    x, y, z = span * numpy.mgrid[-1:1:resolution,\n",
    "                                 -1:1:resolution,\n",
    "                                 -1:1:resolution] * lattice_param\n",
    "    volume = f(x, y, z)\n",
    "    vertices, faces, normals, vals = measure.marching_cubes_lewiner(\n",
    "        volume, 0,\n",
    "        spacing=(0.1, 0.1, 0.1),\n",
    "        allow_degenerate=True)\n",
    "    return vertices, faces\n",
    "\n",
    "\n",
    "lattice_param = 1.0\n",
    "resolution = 99j\n",
    "span = pi * 2\n",
    "strut_param = 0.0\n",
    "\n",
    "def gyroid(x, y, z):\n",
    "    return cos(x)*sin(y) + cos(y)*sin(z) + cos(z)*sin(x) - strut_param\n",
    "\n",
    "vertices, faces = compute_volume(span, resolution, lattice_param, gyroid)\n",
    "print(vertices[0])\n",
    "print(faces[0])\n"
   ]
  },
  {
   "cell_type": "code",
   "execution_count": null,
   "metadata": {
    "scrolled": true
   },
   "outputs": [],
   "source": [
    "from matplotlib import pyplot\n",
    "\n",
    "fig = pyplot.figure()\n",
    "ax = fig.add_subplot(111, projection='3d')\n",
    "ax.plot_trisurf(\n",
    "    vertices[:, 0], vertices[:, 1], faces, vertices[:, 2],\n",
    "    cmap='ocean',\n",
    "    lw=1)\n",
    "pyplot.show()"
   ]
  },
  {
   "cell_type": "code",
   "execution_count": null,
   "metadata": {},
   "outputs": [],
   "source": [
    "x,y,z = zip(*vertices)\n",
    "i,j,k = zip(*faces)\n",
    "\n",
    "# https://plotly.com/python/3d-mesh/\n",
    "import plotly.graph_objects as go\n",
    "import numpy as np\n",
    "\n",
    "fig = go.Figure(data=[go.Mesh3d(x=x, y=y, z=z, i=i, j=j, k=k)])\n",
    "\n",
    "fig.show()"
   ]
  },
  {
   "cell_type": "code",
   "execution_count": null,
   "metadata": {},
   "outputs": [],
   "source": []
  }
 ],
 "metadata": {
  "kernelspec": {
   "display_name": "Python 3",
   "language": "python",
   "name": "python3"
  },
  "language_info": {
   "codemirror_mode": {
    "name": "ipython",
    "version": 3
   },
   "file_extension": ".py",
   "mimetype": "text/x-python",
   "name": "python",
   "nbconvert_exporter": "python",
   "pygments_lexer": "ipython3",
   "version": "3.6.9"
  }
 },
 "nbformat": 4,
 "nbformat_minor": 4
}
