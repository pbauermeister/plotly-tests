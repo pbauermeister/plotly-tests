{
 "cells": [
  {
   "cell_type": "code",
   "execution_count": null,
   "metadata": {},
   "outputs": [],
   "source": [
    "# To cleare computed data before git commit, do:\n",
    "# - Kernel > Restart & Clear Output\n",
    "# - Edit > Cut Cell Attachments\n",
    "# - Save\n",
    "# gimme more width\n",
    "from IPython.core.display import display, HTML\n",
    "display(HTML(\"<style>.container { width:1500px !important; }</style>\"))"
   ]
  },
  {
   "cell_type": "code",
   "execution_count": null,
   "metadata": {},
   "outputs": [],
   "source": [
    "import plotly.express as px\n",
    "import pandas\n",
    "from opensimplex import OpenSimplex\n",
    "import datetime\n",
    "import random\n",
    "\n",
    "o = OpenSimplex() #seed=1)\n",
    "\n",
    "density = 13\n",
    "k = 40\n",
    "\n",
    "ts = datetime.datetime.now()\n",
    "\n",
    "d = {}\n",
    "for u in range(10*density):\n",
    "    for v in range(10*density):\n",
    "        for w in range(10*density):\n",
    "            x = u / 100\n",
    "            y = v / 100\n",
    "            z = w / 100\n",
    "            val = o.noise3d(x/density*k, y/density*k, z/density*k)\n",
    "            pval = abs(val)\n",
    "            if pval > .45: # and random.random() > pval:\n",
    "                d.setdefault('x', []).append(x)\n",
    "                d.setdefault('y', []).append(y)\n",
    "                d.setdefault('z', []).append(z)\n",
    "                d.setdefault('v', []).append(val if val > 0 else 0.5 + val)\n",
    "df = pandas.DataFrame(d)\n",
    "print(datetime.datetime.now() - ts)\n",
    "print(len(df))"
   ]
  },
  {
   "cell_type": "code",
   "execution_count": null,
   "metadata": {},
   "outputs": [],
   "source": [
    "import plotly.express as px\n",
    "\n",
    "fig1 = px.scatter_3d(df, x='x', y='y', z='z', color='v', opacity=0.05, height=800)\n",
    "fig1.show()  # cannot set marker size, so no control on density"
   ]
  },
  {
   "cell_type": "code",
   "execution_count": null,
   "metadata": {},
   "outputs": [],
   "source": [
    "import plotly.express as px\n",
    "import plotly.graph_objects as go\n",
    "\n",
    "fig2 = go.Figure()\n",
    "fig2.add_trace(\n",
    "    go.Scatter3d(\n",
    "        x=df['x'], y=df['y'], z=df['z'],\n",
    "        mode='markers',\n",
    "        marker_colorscale='Plasma',\n",
    "        marker=dict(\n",
    "            color=df['v'],\n",
    "            size=4,\n",
    "            opacity=0.03,\n",
    "            sizemode='diameter',\n",
    "            line=dict(width=0),\n",
    "            colorbar=dict(thickness=20)\n",
    "        )\n",
    "    )\n",
    ")\n",
    "fig2.update_layout(height=800)\n",
    "\n",
    "fig2.show()"
   ]
  },
  {
   "cell_type": "code",
   "execution_count": null,
   "metadata": {
    "scrolled": true
   },
   "outputs": [],
   "source": [
    "import numpy\n",
    "import math\n",
    "from skimage import measure\n",
    "import plotly.graph_objects as go\n",
    "\n",
    "################################################################################\n",
    "# Volume function\n",
    "\n",
    "density = 13\n",
    "k = 40\n",
    "def scalar_func(x, y, z):\n",
    "    val = o.noise3d(x/density*k, y/density*k, z/density*k)\n",
    "    return abs(val) - 0.45  # volume defined by low noise\n",
    "\n",
    "func = numpy.vectorize(scalar_func)\n",
    "\n",
    "################################################################################\n",
    "# Isosurface\n",
    "\n",
    "def compute_volume(span, resolution, f):\n",
    "    x, y, z = span * numpy.mgrid[0:1:resolution,\n",
    "                                 0:1:resolution,\n",
    "                                 0:1:resolution]\n",
    "    volume = f(x, y, z)\n",
    "    vertices, faces, normals, vals = measure.marching_cubes_lewiner(\n",
    "        volume, 0,\n",
    "        spacing=(0.1, 0.1, 0.1),\n",
    "        allow_degenerate=True)\n",
    "    return vertices, faces\n",
    "\n",
    "resolution = 99j\n",
    "span = 1\n",
    "vertices, faces = compute_volume(span, resolution, func)\n",
    "\n",
    "################################################################################\n",
    "# 3D plot\n",
    "\n",
    "x,y,z = zip(*vertices)\n",
    "i,j,k = zip(*faces)\n",
    "\n",
    "# https://plotly.com/python/3d-mesh/\n",
    "\n",
    "fig = go.Figure(data=[\n",
    "    go.Mesh3d(x=x, y=y, z=z, i=i, j=j, k=k)\n",
    "])\n",
    "\n",
    "fig.update_layout(height=800)\n",
    "fig.show()"
   ]
  },
  {
   "cell_type": "code",
   "execution_count": null,
   "metadata": {},
   "outputs": [],
   "source": []
  }
 ],
 "metadata": {
  "kernelspec": {
   "display_name": "Python 3",
   "language": "python",
   "name": "python3"
  },
  "language_info": {
   "codemirror_mode": {
    "name": "ipython",
    "version": 3
   },
   "file_extension": ".py",
   "mimetype": "text/x-python",
   "name": "python",
   "nbconvert_exporter": "python",
   "pygments_lexer": "ipython3",
   "version": "3.6.9"
  }
 },
 "nbformat": 4,
 "nbformat_minor": 4
}
