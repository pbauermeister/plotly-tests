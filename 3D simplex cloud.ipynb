{
 "cells": [
  {
   "cell_type": "code",
   "execution_count": null,
   "metadata": {},
   "outputs": [],
   "source": [
    "import plotly.express as px\n",
    "import pandas\n",
    "from opensimplex import OpenSimplex\n",
    "o = OpenSimplex() #seed=1)\n",
    "\n",
    "density = 10\n",
    "k = 30\n",
    "\n",
    "d = {}\n",
    "for u in range(10*density):\n",
    "    for v in range(10*density):\n",
    "        for w in range(10*density):\n",
    "            x = u / 100\n",
    "            y = v / 100\n",
    "            z = w / 100\n",
    "            val = abs(o.noise3d(x/density*k, y/density*k, z/density*k))\n",
    "            if val > .45:\n",
    "                d.setdefault('x', []).append(x)\n",
    "                d.setdefault('y', []).append(y)\n",
    "                d.setdefault('z', []).append(z)\n",
    "                d.setdefault('v', []).append(val)\n",
    "df = pandas.DataFrame(d)\n",
    "print(len(df))"
   ]
  },
  {
   "cell_type": "code",
   "execution_count": null,
   "metadata": {},
   "outputs": [],
   "source": [
    "fig = px.scatter_3d(df, x='x', y='y', z='z', color='v', opacity=0.015)\n",
    "fig.show()"
   ]
  },
  {
   "cell_type": "code",
   "execution_count": null,
   "metadata": {},
   "outputs": [],
   "source": []
  }
 ],
 "metadata": {
  "kernelspec": {
   "display_name": "Python 3",
   "language": "python",
   "name": "python3"
  },
  "language_info": {
   "codemirror_mode": {
    "name": "ipython",
    "version": 3
   },
   "file_extension": ".py",
   "mimetype": "text/x-python",
   "name": "python",
   "nbconvert_exporter": "python",
   "pygments_lexer": "ipython3",
   "version": "3.6.9"
  }
 },
 "nbformat": 4,
 "nbformat_minor": 4
}
